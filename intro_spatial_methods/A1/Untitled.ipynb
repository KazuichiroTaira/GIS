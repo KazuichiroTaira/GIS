{
 "cells": [
  {
   "cell_type": "code",
   "execution_count": 2,
   "id": "sixth-asbestos",
   "metadata": {},
   "outputs": [
    {
     "name": "stderr",
     "output_type": "stream",
     "text": [
      "<ipython-input-2-614c3e28061e>:7: TqdmExperimentalWarning: Using `tqdm.autonotebook.tqdm` in notebook mode. Use `tqdm.tqdm` instead to force console mode (e.g. in jupyter console)\n",
      "  from tqdm.autonotebook import tqdm\n"
     ]
    }
   ],
   "source": [
    "import numpy as np\n",
    "import matplotlib.pyplot as plt\n",
    "import seaborn as sns\n",
    "import pandas as pd\n",
    "import scipy\n",
    "from sklearn.neighbors import KDTree\n",
    "from tqdm.autonotebook import tqdm\n",
    "import seaborn as sns\n",
    "from scipy.spatial import distance"
   ]
  },
  {
   "cell_type": "code",
   "execution_count": 3,
   "id": "rural-saskatchewan",
   "metadata": {},
   "outputs": [],
   "source": [
    "%config InlineBackend.figure_format = 'retina'"
   ]
  },
  {
   "cell_type": "code",
   "execution_count": 4,
   "id": "explicit-mirror",
   "metadata": {},
   "outputs": [],
   "source": [
    "sns.set_theme(context='notebook', style='white')"
   ]
  },
  {
   "cell_type": "code",
   "execution_count": 5,
   "id": "contemporary-interim",
   "metadata": {},
   "outputs": [],
   "source": [
    "n = 15"
   ]
  },
  {
   "cell_type": "code",
   "execution_count": 6,
   "id": "induced-myrtle",
   "metadata": {},
   "outputs": [],
   "source": [
    "np.random.seed(123)\n",
    "x = np.random.uniform(low=0, high=1, size=n)\n",
    "y = np.random.uniform(low=0, high=1, size=n)"
   ]
  },
  {
   "cell_type": "code",
   "execution_count": 7,
   "id": "biological-democracy",
   "metadata": {},
   "outputs": [
    {
     "data": {
      "text/html": [
       "<div>\n",
       "<style scoped>\n",
       "    .dataframe tbody tr th:only-of-type {\n",
       "        vertical-align: middle;\n",
       "    }\n",
       "\n",
       "    .dataframe tbody tr th {\n",
       "        vertical-align: top;\n",
       "    }\n",
       "\n",
       "    .dataframe thead th {\n",
       "        text-align: right;\n",
       "    }\n",
       "</style>\n",
       "<table border=\"1\" class=\"dataframe\">\n",
       "  <thead>\n",
       "    <tr style=\"text-align: right;\">\n",
       "      <th></th>\n",
       "      <th>x</th>\n",
       "      <th>y</th>\n",
       "    </tr>\n",
       "  </thead>\n",
       "  <tbody>\n",
       "    <tr>\n",
       "      <th>0</th>\n",
       "      <td>0.696469</td>\n",
       "      <td>0.737995</td>\n",
       "    </tr>\n",
       "    <tr>\n",
       "      <th>1</th>\n",
       "      <td>0.286139</td>\n",
       "      <td>0.182492</td>\n",
       "    </tr>\n",
       "    <tr>\n",
       "      <th>2</th>\n",
       "      <td>0.226851</td>\n",
       "      <td>0.175452</td>\n",
       "    </tr>\n",
       "    <tr>\n",
       "      <th>3</th>\n",
       "      <td>0.551315</td>\n",
       "      <td>0.531551</td>\n",
       "    </tr>\n",
       "    <tr>\n",
       "      <th>4</th>\n",
       "      <td>0.719469</td>\n",
       "      <td>0.531828</td>\n",
       "    </tr>\n",
       "    <tr>\n",
       "      <th>5</th>\n",
       "      <td>0.423106</td>\n",
       "      <td>0.634401</td>\n",
       "    </tr>\n",
       "    <tr>\n",
       "      <th>6</th>\n",
       "      <td>0.980764</td>\n",
       "      <td>0.849432</td>\n",
       "    </tr>\n",
       "    <tr>\n",
       "      <th>7</th>\n",
       "      <td>0.684830</td>\n",
       "      <td>0.724455</td>\n",
       "    </tr>\n",
       "    <tr>\n",
       "      <th>8</th>\n",
       "      <td>0.480932</td>\n",
       "      <td>0.611024</td>\n",
       "    </tr>\n",
       "    <tr>\n",
       "      <th>9</th>\n",
       "      <td>0.392118</td>\n",
       "      <td>0.722443</td>\n",
       "    </tr>\n",
       "    <tr>\n",
       "      <th>10</th>\n",
       "      <td>0.343178</td>\n",
       "      <td>0.322959</td>\n",
       "    </tr>\n",
       "    <tr>\n",
       "      <th>11</th>\n",
       "      <td>0.729050</td>\n",
       "      <td>0.361789</td>\n",
       "    </tr>\n",
       "    <tr>\n",
       "      <th>12</th>\n",
       "      <td>0.438572</td>\n",
       "      <td>0.228263</td>\n",
       "    </tr>\n",
       "    <tr>\n",
       "      <th>13</th>\n",
       "      <td>0.059678</td>\n",
       "      <td>0.293714</td>\n",
       "    </tr>\n",
       "    <tr>\n",
       "      <th>14</th>\n",
       "      <td>0.398044</td>\n",
       "      <td>0.630976</td>\n",
       "    </tr>\n",
       "  </tbody>\n",
       "</table>\n",
       "</div>"
      ],
      "text/plain": [
       "           x         y\n",
       "0   0.696469  0.737995\n",
       "1   0.286139  0.182492\n",
       "2   0.226851  0.175452\n",
       "3   0.551315  0.531551\n",
       "4   0.719469  0.531828\n",
       "5   0.423106  0.634401\n",
       "6   0.980764  0.849432\n",
       "7   0.684830  0.724455\n",
       "8   0.480932  0.611024\n",
       "9   0.392118  0.722443\n",
       "10  0.343178  0.322959\n",
       "11  0.729050  0.361789\n",
       "12  0.438572  0.228263\n",
       "13  0.059678  0.293714\n",
       "14  0.398044  0.630976"
      ]
     },
     "execution_count": 7,
     "metadata": {},
     "output_type": "execute_result"
    }
   ],
   "source": [
    "df_uniform = pd.DataFrame({'x': x, 'y': y})\n",
    "df_uniform"
   ]
  },
  {
   "cell_type": "code",
   "execution_count": 8,
   "id": "wrong-provision",
   "metadata": {},
   "outputs": [
    {
     "data": {
      "image/png": "[encoded data removed]",
      "text/plain": [
       "<Figure size 432x288 with 1 Axes>"
      ]
     },
     "metadata": {
      "image/png": {
       "height": 255,
       "width": 381
      }
     },
     "output_type": "display_data"
    }
   ],
   "source": [
    "fig, ax = plt.subplots()\n",
    "ax.scatter(x=x, y=y, alpha=0.5, color='green');\n",
    "    \n",
    "ax.set_xlim(0, 1)\n",
    "ax.set_ylim(0, 1);"
   ]
  },
  {
   "cell_type": "code",
   "execution_count": 9,
   "id": "downtown-freeware",
   "metadata": {},
   "outputs": [],
   "source": [
    "np.random.seed(1234)\n",
    "mu_array = np.array([[0.25, 0.75], [0.75, 0.75], [0.75, 0.25]])\n",
    "sigma = 0.05\n",
    "n_cluster = 3\n",
    "\n",
    "cluster = np.random.randint(n_cluster, size=n)\n",
    "\n",
    "x = []\n",
    "y = []\n",
    "\n",
    "for i in range(n_cluster):\n",
    "    n_cluster_i = np.sum(cluster == i)\n",
    "    x_cluster = np.random.normal(loc=mu_array[i, 0], scale=sigma, size=n_cluster_i)\n",
    "    y_cluster = np.random.normal(loc=mu_array[i, 1], scale=sigma, size=n_cluster_i)\n",
    "    x += list(x_cluster)\n",
    "    y += list(y_cluster)"
   ]
  },
  {
   "cell_type": "code",
   "execution_count": 10,
   "id": "minute-brother",
   "metadata": {},
   "outputs": [
    {
     "data": {
      "image/png": "[encoded data removed]",
      "text/plain": [
       "<Figure size 432x288 with 1 Axes>"
      ]
     },
     "metadata": {
      "image/png": {
       "height": 255,
       "width": 381
      }
     },
     "output_type": "display_data"
    }
   ],
   "source": [
    "fig, ax = plt.subplots()\n",
    "ax.scatter(x=x, y=y, alpha=0.5, color='green');\n",
    "    \n",
    "ax.set_xlim(0, 1)\n",
    "ax.set_ylim(0, 1);"
   ]
  },
  {
   "cell_type": "code",
   "execution_count": 11,
   "id": "behind-plastic",
   "metadata": {},
   "outputs": [
    {
     "data": {
      "text/html": [
       "<div>\n",
       "<style scoped>\n",
       "    .dataframe tbody tr th:only-of-type {\n",
       "        vertical-align: middle;\n",
       "    }\n",
       "\n",
       "    .dataframe tbody tr th {\n",
       "        vertical-align: top;\n",
       "    }\n",
       "\n",
       "    .dataframe thead th {\n",
       "        text-align: right;\n",
       "    }\n",
       "</style>\n",
       "<table border=\"1\" class=\"dataframe\">\n",
       "  <thead>\n",
       "    <tr style=\"text-align: right;\">\n",
       "      <th></th>\n",
       "      <th>x</th>\n",
       "      <th>y</th>\n",
       "    </tr>\n",
       "  </thead>\n",
       "  <tbody>\n",
       "    <tr>\n",
       "      <th>0</th>\n",
       "      <td>0.250785</td>\n",
       "      <td>0.648937</td>\n",
       "    </tr>\n",
       "    <tr>\n",
       "      <th>1</th>\n",
       "      <td>0.137866</td>\n",
       "      <td>0.733296</td>\n",
       "    </tr>\n",
       "    <tr>\n",
       "      <th>2</th>\n",
       "      <td>0.307502</td>\n",
       "      <td>0.750106</td>\n",
       "    </tr>\n",
       "    <tr>\n",
       "      <th>3</th>\n",
       "      <td>0.299597</td>\n",
       "      <td>0.770273</td>\n",
       "    </tr>\n",
       "    <tr>\n",
       "      <th>4</th>\n",
       "      <td>0.297666</td>\n",
       "      <td>0.764455</td>\n",
       "    </tr>\n",
       "    <tr>\n",
       "      <th>5</th>\n",
       "      <td>0.816058</td>\n",
       "      <td>0.759671</td>\n",
       "    </tr>\n",
       "    <tr>\n",
       "      <th>6</th>\n",
       "      <td>0.672655</td>\n",
       "      <td>0.777672</td>\n",
       "    </tr>\n",
       "    <tr>\n",
       "      <th>7</th>\n",
       "      <td>0.739868</td>\n",
       "      <td>0.815908</td>\n",
       "    </tr>\n",
       "    <tr>\n",
       "      <th>8</th>\n",
       "      <td>0.717202</td>\n",
       "      <td>0.726535</td>\n",
       "    </tr>\n",
       "    <tr>\n",
       "      <th>9</th>\n",
       "      <td>0.783778</td>\n",
       "      <td>0.302379</td>\n",
       "    </tr>\n",
       "    <tr>\n",
       "      <th>10</th>\n",
       "      <td>0.659149</td>\n",
       "      <td>0.302297</td>\n",
       "    </tr>\n",
       "    <tr>\n",
       "      <th>11</th>\n",
       "      <td>0.740845</td>\n",
       "      <td>0.293186</td>\n",
       "    </tr>\n",
       "    <tr>\n",
       "      <th>12</th>\n",
       "      <td>0.802948</td>\n",
       "      <td>0.243895</td>\n",
       "    </tr>\n",
       "    <tr>\n",
       "      <th>13</th>\n",
       "      <td>0.730108</td>\n",
       "      <td>0.256236</td>\n",
       "    </tr>\n",
       "    <tr>\n",
       "      <th>14</th>\n",
       "      <td>0.766872</td>\n",
       "      <td>0.233860</td>\n",
       "    </tr>\n",
       "  </tbody>\n",
       "</table>\n",
       "</div>"
      ],
      "text/plain": [
       "           x         y\n",
       "0   0.250785  0.648937\n",
       "1   0.137866  0.733296\n",
       "2   0.307502  0.750106\n",
       "3   0.299597  0.770273\n",
       "4   0.297666  0.764455\n",
       "5   0.816058  0.759671\n",
       "6   0.672655  0.777672\n",
       "7   0.739868  0.815908\n",
       "8   0.717202  0.726535\n",
       "9   0.783778  0.302379\n",
       "10  0.659149  0.302297\n",
       "11  0.740845  0.293186\n",
       "12  0.802948  0.243895\n",
       "13  0.730108  0.256236\n",
       "14  0.766872  0.233860"
      ]
     },
     "execution_count": 11,
     "metadata": {},
     "output_type": "execute_result"
    }
   ],
   "source": [
    "df_cluster = pd.DataFrame({'x': x, 'y': y})\n",
    "df_cluster"
   ]
  },
  {
   "cell_type": "code",
   "execution_count": 12,
   "id": "monthly-mattress",
   "metadata": {},
   "outputs": [
    {
     "data": {
      "text/plain": [
       "array([0.25078482, 0.13786575, 0.30750179, 0.2995973 , 0.29766621,\n",
       "       0.81605791, 0.67265472, 0.73986768, 0.71720153, 0.7837777 ,\n",
       "       0.65914864, 0.74084457, 0.80294846, 0.73010799, 0.76687188])"
      ]
     },
     "execution_count": 12,
     "metadata": {},
     "output_type": "execute_result"
    }
   ],
   "source": [
    "df_cluster.x.values"
   ]
  },
  {
   "cell_type": "code",
   "execution_count": 14,
   "id": "loaded-papua",
   "metadata": {},
   "outputs": [
    {
     "name": "stdout",
     "output_type": "stream",
     "text": [
      "0\n",
      "minimum distance 0.017855265799546667\n",
      "1\n",
      "minimum distance 0.05970438943235716\n",
      "2\n",
      "minimum distance 0.05970438943235716\n",
      "3\n",
      "minimum distance 0.10615822429106256\n",
      "4\n",
      "minimum distance 0.16815442755906457\n",
      "5\n",
      "minimum distance 0.025295130002403833\n",
      "6\n",
      "minimum distance 0.30535507682526947\n",
      "7\n",
      "minimum distance 0.017855265799546667\n",
      "8\n",
      "minimum distance 0.06237216316239623\n",
      "9\n",
      "minimum distance 0.09165907281908077\n",
      "10\n",
      "minimum distance 0.13441477303686084\n",
      "11\n",
      "minimum distance 0.1703086279374544\n",
      "12\n",
      "minimum distance 0.13441477303686084\n",
      "13\n",
      "minimum distance 0.20477540730759322\n",
      "14\n",
      "minimum distance 0.025295130002403833\n"
     ]
    }
   ],
   "source": [
    "minimum_dist = []\n",
    "for i, point in df_uniform.iterrows():\n",
    "    dist = []\n",
    "    print(i)\n",
    "    for j, other in df_uniform.iterrows():\n",
    "        if i != j:\n",
    "            d  = np.sqrt((point.x - other.x)**2+(point.y - other.y)**2)\n",
    "            dist.append(d)\n",
    "    \n",
    "    min_dist = np.min(dist)\n",
    "    print('minimum distance', min_dist)\n",
    "    minimum_dist.append(min_dist)"
   ]
  },
  {
   "cell_type": "code",
   "execution_count": 47,
   "id": "seven-variance",
   "metadata": {},
   "outputs": [],
   "source": [
    "n_bins = 15\n",
    "minimum_dist_hist, x_hist = np.histogram(minimum_dist, bins=n_bins, range=(0, 1))"
   ]
  },
  {
   "cell_type": "code",
   "execution_count": 48,
   "id": "agreed-pizza",
   "metadata": {},
   "outputs": [],
   "source": [
    "cum_sum = 0\n",
    "minimum_dist_cum = np.zeros(n_bins)\n",
    "for i in range(n_bins):\n",
    "    cum_sum += minimum_dist_hist[i]\n",
    "    minimum_dist_cum[i] = cum_sum"
   ]
  },
  {
   "cell_type": "code",
   "execution_count": 49,
   "id": "increased-singapore",
   "metadata": {},
   "outputs": [],
   "source": [
    "step = x_hist[1] - x_hist[0]"
   ]
  },
  {
   "cell_type": "code",
   "execution_count": 50,
   "id": "decent-registrar",
   "metadata": {},
   "outputs": [
    {
     "data": {
      "text/plain": [
       "0.0"
      ]
     },
     "execution_count": 50,
     "metadata": {},
     "output_type": "execute_result"
    }
   ],
   "source": [
    "x_hist[0]"
   ]
  },
  {
   "cell_type": "code",
   "execution_count": 51,
   "id": "perceived-bicycle",
   "metadata": {},
   "outputs": [
    {
     "data": {
      "text/plain": [
       "array([0.        , 0.03333333, 0.06666667, 0.1       , 0.13333333,\n",
       "       0.16666667, 0.2       , 0.23333333, 0.26666667, 0.3       ,\n",
       "       0.33333333, 0.36666667, 0.4       , 0.43333333, 0.46666667])"
      ]
     },
     "execution_count": 51,
     "metadata": {},
     "output_type": "execute_result"
    }
   ],
   "source": [
    "np.arange(n_bins)*step/2+x_hist[0]"
   ]
  },
  {
   "cell_type": "code",
   "execution_count": 40,
   "id": "deluxe-conference",
   "metadata": {},
   "outputs": [
    {
     "data": {
      "text/plain": [
       "<BarContainer object of 10 artists>"
      ]
     },
     "execution_count": 40,
     "metadata": {},
     "output_type": "execute_result"
    },
    {
     "data": {
      "image/png": "[encoded data removed]",
      "text/plain": [
       "<Figure size 432x288 with 1 Axes>"
      ]
     },
     "metadata": {
      "image/png": {
       "height": 251,
       "width": 364
      }
     },
     "output_type": "display_data"
    }
   ],
   "source": [
    "plt.bar(x=x_hist[:-1], width=step, align='edge', height=minimum_dist_hist)"
   ]
  },
  {
   "cell_type": "code",
   "execution_count": 53,
   "id": "internal-spirit",
   "metadata": {},
   "outputs": [
    {
     "data": {
      "text/plain": [
       "Text(0, 0.5, 'cumulative freq')"
      ]
     },
     "execution_count": 53,
     "metadata": {},
     "output_type": "execute_result"
    },
    {
     "data": {
      "image/png": "[encoded data removed]",
      "text/plain": [
       "<Figure size 432x288 with 1 Axes>"
      ]
     },
     "metadata": {
      "image/png": {
       "height": 266,
       "width": 386
      }
     },
     "output_type": "display_data"
    }
   ],
   "source": [
    "fig, ax = plt.subplots()\n",
    "ax.bar(x=x_hist[:-1], width=step, align='edge', height=minimum_dist_cum)\n",
    "ax.set_xlabel('minimum distance')\n",
    "ax.set_ylabel('cumulative freq')"
   ]
  },
  {
   "cell_type": "markdown",
   "id": "romantic-stamp",
   "metadata": {},
   "source": [
    "### cumulative distribution of minimal distance "
   ]
  },
  {
   "cell_type": "code",
   "execution_count": 20,
   "id": "alike-father",
   "metadata": {},
   "outputs": [
    {
     "data": {
      "text/plain": [
       "array([0.01785527, 0.04660525, 0.07535523, 0.10410521, 0.13285519,\n",
       "       0.16160517, 0.19035515, 0.21910513, 0.24785511, 0.2766051 ])"
      ]
     },
     "execution_count": 20,
     "metadata": {},
     "output_type": "execute_result"
    }
   ],
   "source": [
    "x_hist[:-1]"
   ]
  },
  {
   "cell_type": "markdown",
   "id": "classical-funeral",
   "metadata": {},
   "source": [
    "# Play around"
   ]
  },
  {
   "cell_type": "code",
   "execution_count": 111,
   "id": "union-convention",
   "metadata": {},
   "outputs": [],
   "source": [
    "mu = 0\n",
    "sigma = 1"
   ]
  },
  {
   "cell_type": "code",
   "execution_count": 112,
   "id": "graduate-garage",
   "metadata": {},
   "outputs": [
    {
     "data": {
      "text/plain": [
       "array([-3.        , -2.93939394, -2.87878788, -2.81818182, -2.75757576,\n",
       "       -2.6969697 , -2.63636364, -2.57575758, -2.51515152, -2.45454545,\n",
       "       -2.39393939, -2.33333333, -2.27272727, -2.21212121, -2.15151515,\n",
       "       -2.09090909, -2.03030303, -1.96969697, -1.90909091, -1.84848485,\n",
       "       -1.78787879, -1.72727273, -1.66666667, -1.60606061, -1.54545455,\n",
       "       -1.48484848, -1.42424242, -1.36363636, -1.3030303 , -1.24242424,\n",
       "       -1.18181818, -1.12121212, -1.06060606, -1.        , -0.93939394,\n",
       "       -0.87878788, -0.81818182, -0.75757576, -0.6969697 , -0.63636364,\n",
       "       -0.57575758, -0.51515152, -0.45454545, -0.39393939, -0.33333333,\n",
       "       -0.27272727, -0.21212121, -0.15151515, -0.09090909, -0.03030303,\n",
       "        0.03030303,  0.09090909,  0.15151515,  0.21212121,  0.27272727,\n",
       "        0.33333333,  0.39393939,  0.45454545,  0.51515152,  0.57575758,\n",
       "        0.63636364,  0.6969697 ,  0.75757576,  0.81818182,  0.87878788,\n",
       "        0.93939394,  1.        ,  1.06060606,  1.12121212,  1.18181818,\n",
       "        1.24242424,  1.3030303 ,  1.36363636,  1.42424242,  1.48484848,\n",
       "        1.54545455,  1.60606061,  1.66666667,  1.72727273,  1.78787879,\n",
       "        1.84848485,  1.90909091,  1.96969697,  2.03030303,  2.09090909,\n",
       "        2.15151515,  2.21212121,  2.27272727,  2.33333333,  2.39393939,\n",
       "        2.45454545,  2.51515152,  2.57575758,  2.63636364,  2.6969697 ,\n",
       "        2.75757576,  2.81818182,  2.87878788,  2.93939394,  3.        ])"
      ]
     },
     "execution_count": 112,
     "metadata": {},
     "output_type": "execute_result"
    }
   ],
   "source": [
    "x = np.linspace(-3, 3, 100)\n",
    "x"
   ]
  },
  {
   "cell_type": "code",
   "execution_count": 38,
   "id": "clear-issue",
   "metadata": {},
   "outputs": [
    {
     "data": {
      "text/plain": [
       "array([0.00443185, 0.00530579, 0.00632878, 0.00752133, 0.00890582,\n",
       "       0.0105065 , 0.01234943, 0.01446241, 0.01687483, 0.01961746,\n",
       "       0.02272223, 0.02622189, 0.03014961, 0.03453857, 0.03942137,\n",
       "       0.0448295 , 0.05079264, 0.05733801, 0.06448952, 0.07226707,\n",
       "       0.08068571, 0.08975477, 0.09947714, 0.10984842, 0.12085626,\n",
       "       0.13247967, 0.14468855, 0.15744319, 0.17069405, 0.18438164,\n",
       "       0.1984366 , 0.21277993, 0.22732351, 0.24197072, 0.2566174 ,\n",
       "       0.27115285, 0.28546117, 0.29942268, 0.31291556, 0.3258175 ,\n",
       "       0.33800759, 0.34936814, 0.35978656, 0.36915722, 0.37738323,\n",
       "       0.38437808, 0.3900672 , 0.39438923, 0.39729716, 0.39875915,\n",
       "       0.39875915, 0.39729716, 0.39438923, 0.3900672 , 0.38437808,\n",
       "       0.37738323, 0.36915722, 0.35978656, 0.34936814, 0.33800759,\n",
       "       0.3258175 , 0.31291556, 0.29942268, 0.28546117, 0.27115285,\n",
       "       0.2566174 , 0.24197072, 0.22732351, 0.21277993, 0.1984366 ,\n",
       "       0.18438164, 0.17069405, 0.15744319, 0.14468855, 0.13247967,\n",
       "       0.12085626, 0.10984842, 0.09947714, 0.08975477, 0.08068571,\n",
       "       0.07226707, 0.06448952, 0.05733801, 0.05079264, 0.0448295 ,\n",
       "       0.03942137, 0.03453857, 0.03014961, 0.02622189, 0.02272223,\n",
       "       0.01961746, 0.01687483, 0.01446241, 0.01234943, 0.0105065 ,\n",
       "       0.00890582, 0.00752133, 0.00632878, 0.00530579, 0.00443185])"
      ]
     },
     "execution_count": 38,
     "metadata": {},
     "output_type": "execute_result"
    }
   ],
   "source": [
    "y = scipy.stats.norm(loc=mu, scale=sigma).pdf(x)\n",
    "y"
   ]
  },
  {
   "cell_type": "code",
   "execution_count": 39,
   "id": "increasing-catalog",
   "metadata": {},
   "outputs": [
    {
     "data": {
      "text/plain": [
       "[<matplotlib.lines.Line2D at 0x129ecce80>]"
      ]
     },
     "execution_count": 39,
     "metadata": {},
     "output_type": "execute_result"
    },
    {
     "data": {
      "image/png": "[encoded data removed]",
      "text/plain": [
       "<Figure size 432x288 with 1 Axes>"
      ]
     },
     "metadata": {
      "image/png": {
       "height": 251,
       "width": 380
      }
     },
     "output_type": "display_data"
    }
   ],
   "source": [
    "plt.plot(x, y)"
   ]
  },
  {
   "cell_type": "code",
   "execution_count": 54,
   "id": "monetary-breath",
   "metadata": {},
   "outputs": [],
   "source": [
    "x = np.random.normal(loc=mu, scale=sigma, size=100)"
   ]
  },
  {
   "cell_type": "code",
   "execution_count": 55,
   "id": "advanced-atlanta",
   "metadata": {},
   "outputs": [
    {
     "data": {
      "image/png": "[encoded data removed]",
      "text/plain": [
       "<Figure size 432x288 with 1 Axes>"
      ]
     },
     "metadata": {
      "image/png": {
       "height": 251,
       "width": 364
      }
     },
     "output_type": "display_data"
    }
   ],
   "source": [
    "plt.hist(x, bins=30);"
   ]
  }
 ],
 "metadata": {
  "kernelspec": {
   "display_name": "Python 3",
   "language": "python",
   "name": "python3"
  },
  "language_info": {
   "codemirror_mode": {
    "name": "ipython",
    "version": 3
   },
   "file_extension": ".py",
   "mimetype": "text/x-python",
   "name": "python",
   "nbconvert_exporter": "python",
   "pygments_lexer": "ipython3",
   "version": "3.9.1"
  },
  "toc": {
   "base_numbering": 1,
   "nav_menu": {},
   "number_sections": true,
   "sideBar": true,
   "skip_h1_title": false,
   "title_cell": "Table of Contents",
   "title_sidebar": "Contents",
   "toc_cell": false,
   "toc_position": {},
   "toc_section_display": true,
   "toc_window_display": false
  },
  "varInspector": {
   "cols": {
    "lenName": 16,
    "lenType": 16,
    "lenVar": 40
   },
   "kernels_config": {
    "python": {
     "delete_cmd_postfix": "",
     "delete_cmd_prefix": "del ",
     "library": "var_list.py",
     "varRefreshCmd": "print(var_dic_list())"
    },
    "r": {
     "delete_cmd_postfix": ") ",
     "delete_cmd_prefix": "rm(",
     "library": "var_list.r",
     "varRefreshCmd": "cat(var_dic_list()) "
    }
   },
   "types_to_exclude": [
    "module",
    "function",
    "builtin_function_or_method",
    "instance",
    "_Feature"
   ],
   "window_display": false
  }
 },
 "nbformat": 4,
 "nbformat_minor": 5
}
